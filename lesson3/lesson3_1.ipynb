{
 "cells": [
  {
   "cell_type": "code",
   "execution_count": 23,
   "id": "fe8679d3",
   "metadata": {},
   "outputs": [
    {
     "name": "stdout",
     "output_type": "stream",
     "text": [
      "Hello! Python!\n"
     ]
    }
   ],
   "source": [
    "print(\"Hello! Python!\")"
   ]
  },
  {
   "cell_type": "code",
   "execution_count": null,
   "id": "34dc5926",
   "metadata": {},
   "outputs": [],
   "source": [
    "class Person:\n",
    "    def __init__(self,name):#自訂的初始化\n",
    "        self.name = name  #attribute\n",
    "    \n",
    "    def greeting(self):#自訂的實體方法\n",
    "        print(f\"您好{self.name}\")\n",
    "\n",
    "\n"
   ]
  },
  {
   "cell_type": "code",
   "execution_count": 25,
   "id": "ad714f9b",
   "metadata": {},
   "outputs": [
    {
     "name": "stdout",
     "output_type": "stream",
     "text": [
      "您好robert\n",
      "您好jenny\n"
     ]
    }
   ],
   "source": [
    "p1: Person = Person(\"robert\")\n",
    "p1.greeting()   # ✅ 執行方法 → 您好robert\n",
    "\n",
    "p2: Person = Person(name=\"jenny\")\n",
    "p2.greeting()   # ✅ 執行方法 → 您好jenny"
   ]
  },
  {
   "cell_type": "code",
   "execution_count": null,
   "id": "e27db2c5",
   "metadata": {},
   "outputs": [],
   "source": [
    "# 定義一個子類別 student，繼承自 Person\n",
    "class student(Person):\n",
    "    def greeting(self):   # 覆寫 (override) 父類別的方法\n",
    "        super().greeting()   # 先呼叫父類別的 greeting()\n",
    "        print(\"您好:我是學生\")  # 再加上學生自己的功能"
   ]
  },
  {
   "cell_type": "code",
   "execution_count": null,
   "id": "97ea3f9d",
   "metadata": {},
   "outputs": [
    {
     "name": "stdout",
     "output_type": "stream",
     "text": [
      "kevin\n",
      "您好kevin\n",
      "您好:我是學生\n"
     ]
    }
   ],
   "source": [
    "# 建立 student 物件\n",
    "s1 = student(\"kevin\")\n",
    "print(s1.name)     # ✅ 輸出：kevin\n",
    "s1.greeting()      \n",
    "# ✅ 先執行父類別的 greeting() → 您好kevin\n",
    "# ✅ 再執行自己的 greeting() → 您好:我是學生"
   ]
  },
  {
   "cell_type": "markdown",
   "id": "7395a8cf",
   "metadata": {},
   "source": [
    "繼承 (Inheritance)\n",
    "    class student(Person): → 表示 student 類別 繼承 Person 類別。\n",
    "    子類別自動擁有父類別的屬性和方法。\n",
    "\n",
    "方法覆寫 (Method Override)\n",
    "    在子類別 student 中重新定義 greeting()。\n",
    "    Python 會優先執行子類別的版本。\n",
    "    \n",
    "super() 的用途\n",
    "    super().greeting() 代表先呼叫父類別 (Person) 的 greeting() 方法。\n",
    "    這樣就能「保留父類別的功能」，再加上子類別的額外功能。"
   ]
  }
 ],
 "metadata": {
  "kernelspec": {
   "display_name": "python-web-1",
   "language": "python",
   "name": "python3"
  },
  "language_info": {
   "codemirror_mode": {
    "name": "ipython",
    "version": 3
   },
   "file_extension": ".py",
   "mimetype": "text/x-python",
   "name": "python",
   "nbconvert_exporter": "python",
   "pygments_lexer": "ipython3",
   "version": "3.13.5"
  }
 },
 "nbformat": 4,
 "nbformat_minor": 5
}
