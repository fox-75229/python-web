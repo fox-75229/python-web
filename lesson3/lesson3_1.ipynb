{
 "cells": [
  {
   "cell_type": "code",
   "execution_count": 88,
   "id": "fe8679d3",
   "metadata": {},
   "outputs": [
    {
     "name": "stdout",
     "output_type": "stream",
     "text": [
      "Hello! Python!\n"
     ]
    }
   ],
   "source": [
    "print(\"Hello! Python!\")"
   ]
  },
  {
   "cell_type": "code",
   "execution_count": 89,
   "id": "34dc5926",
   "metadata": {},
   "outputs": [],
   "source": [
    "class Person:\n",
    "    def __init__(self,name):#自訂的初始化\n",
    "        self.name = name  #attribute\n",
    "    \n",
    "    def greeting(self):#自訂的實體方法\n",
    "        print(f\"您好{self.name}\")\n",
    "    \n",
    "\n"
   ]
  },
  {
   "cell_type": "code",
   "execution_count": 90,
   "id": "ad714f9b",
   "metadata": {},
   "outputs": [
    {
     "name": "stdout",
     "output_type": "stream",
     "text": [
      "您好robert\n",
      "您好jenny\n"
     ]
    }
   ],
   "source": [
    "p1: Person = Person(\"robert\")\n",
    "p1.greeting()   #  執行方法 → 您好robert\n",
    "\n",
    "p2: Person = Person(name=\"jenny\")\n",
    "p2.greeting()   #  執行方法 → 您好jenny"
   ]
  },
  {
   "cell_type": "code",
   "execution_count": 91,
   "id": "e27db2c5",
   "metadata": {},
   "outputs": [],
   "source": [
    "# 定義父類別 Person\n",
    "class Person:\n",
    "    def __init__(self, name):  # 初始化方法，建立物件時會自動執行\n",
    "        self.name = name       # 將名字存到屬性 name\n",
    "    \n",
    "    def greeting(self):        # 一般方法，印出問候語\n",
    "        print(f\"您好 {self.name}\")\n",
    "\n",
    "\n",
    "# 定義子類別 student，繼承自 Person\n",
    "class student(Person):\n",
    "    def __init__(self, name, chinese, english, math):\n",
    "        # 呼叫父類別(Person)的初始化，先把 name 存起來\n",
    "        super().__init__(name)\n",
    "        # 再加上三個屬性：國文、英文、數學 (前面加 __ 代表私有變數)\n",
    "        self.__chinese = chinese\n",
    "        self.__english = english\n",
    "        self.__math = math\n",
    "    \n",
    "    # getter (用 @property 包裝，讓呼叫端像讀屬性一樣取值)\n",
    "    @property\n",
    "    def chinese(self):\n",
    "        return self.__chinese\n",
    "    \n",
    "    @property\n",
    "    def english(self):\n",
    "        return self.__english\n",
    "\n",
    "    @property\n",
    "    def math(self):\n",
    "        return self.__math\n",
    "\n",
    "    # 覆寫父類別的 greeting()\n",
    "    def greeting(self):\n",
    "        super().greeting()   # 先呼叫父類別的 greeting()\n",
    "        print(\"您好:我是學生\")  # 再加上學生自己的問候\n",
    "    \n",
    "    # 計算總分的方法\n",
    "    def total(self):\n",
    "        return self.chinese + self.english + self.math\n",
    "    \n",
    "    # 計算平均的方法\n",
    "    def average(self):\n",
    "        return self.total() / 3.0\n",
    "    \n",
    "    # 當 print(s1) 時，自動呼叫這裡\n",
    "    def __repr__(self):\n",
    "        return f\"\"\"\n",
    "        我是一個學生\n",
    "        我的名字是{self.name}\n",
    "        我的總分是{self.total()}\n",
    "        我的平均是{self.average()}\n",
    "        \"\"\""
   ]
  },
  {
   "cell_type": "code",
   "execution_count": 92,
   "id": "97ea3f9d",
   "metadata": {},
   "outputs": [
    {
     "name": "stdout",
     "output_type": "stream",
     "text": [
      "kevin\n",
      "國文分數:100\n",
      "英文分數:78\n",
      "數學分數:92\n",
      "總分:270\n",
      "平均:90.0\n",
      "您好 kevin\n",
      "您好:我是學生\n"
     ]
    }
   ],
   "source": [
    "# 建立一個 student 物件，名字 kevin，三科分數：國文100、英文78、數學92\n",
    "s1 = student(\"kevin\", english=78, math=92, chinese=100)\n",
    "# 印出名字 (來自父類別)\n",
    "print(s1.name)     \n",
    "# 取用國英數三科分數 (因為有用 @property，所以看起來像讀屬性)\n",
    "print(f\"國文分數:{s1.chinese}\")\n",
    "print(f\"英文分數:{s1.english}\")\n",
    "print(f\"數學分數:{s1.math}\")\n",
    "\n",
    "# 呼叫方法算總分和平均\n",
    "print(f\"總分:{s1.total()}\")\n",
    "print(f\"平均:{s1.average()}\")\n",
    "\n",
    "# 呼叫 greeting()，會先執行父類別的 → \"您好 kevin\"\n",
    "# 再執行子類別的 → \"您好:我是學生\"\n",
    "s1.greeting()  "
   ]
  },
  {
   "cell_type": "code",
   "execution_count": 93,
   "id": "24735f33",
   "metadata": {},
   "outputs": [
    {
     "name": "stdout",
     "output_type": "stream",
     "text": [
      "\n",
      "        我是一個學生\n",
      "        我的名字是kevin\n",
      "        我的總分是270\n",
      "        我的平均是90.0\n",
      "        \n"
     ]
    }
   ],
   "source": [
    "print(s1)"
   ]
  },
  {
   "cell_type": "markdown",
   "id": "7395a8cf",
   "metadata": {},
   "source": [
    "📝 總結：這段程式在做什麼？\n",
    "\n",
    "這是一個示範 類別 (class) 與物件 (object) 的程式。\n",
    "它分成 父類別 Person 和 子類別 student，子類別繼承父類別，並且加上自己的功能。\n",
    "\n",
    "1. Person 類別（父類別）\n",
    "\n",
    "負責存放名字 (name)。\n",
    "\n",
    "有一個 greeting() 方法，會印出「您好 + 名字」。\n",
    "\n",
    "👉 可以想像 Person 就是「一個會打招呼的人」。\n",
    "\n",
    "2. student 類別（子類別，繼承 Person）\n",
    "\n",
    "除了會打招呼，還會多存三個成績：國文、英文、數學。\n",
    "\n",
    "@property 讓你可以直接用 s1.chinese 這樣的方式去讀分數（不用再寫方法呼叫）。\n",
    "\n",
    "total()：算總分。\n",
    "\n",
    "average()：算平均。\n",
    "\n",
    "greeting()：改寫（覆寫）父類別的方法。\n",
    "→ 先執行父類別的「您好 kevin」，再加上自己的「您好:我是學生」。\n",
    "\n",
    "__repr__()：當你 print(s1) 的時候，會輸出「我是學生 + 名字 + 總分 + 平均」。\n",
    "\n",
    "👉 可以想像 student 就是「一個學生，既能打招呼，也有考試分數」。\n",
    "\n",
    "3. 程式執行流程\n",
    "s1 = student(\"kevin\", english=78, math=92, chinese=100)\n",
    "\n",
    "\n",
    "建立一個學生物件 kevin，他的分數是：國文 100、英文 78、數學 92。\n",
    "\n",
    "接著程式輸出：\n",
    "\n",
    "印名字 → kevin\n",
    "\n",
    "印三科成績 → 100, 78, 92\n",
    "\n",
    "印總分 → 270\n",
    "\n",
    "印平均 → 90.0\n",
    "\n",
    "呼叫 greeting() →\n",
    "\n",
    "「您好 kevin」 (來自 Person)\n",
    "\n",
    "「您好:我是學生」 (來自 student)\n",
    "\n",
    "如果加上 print(s1)，還會輸出：\n",
    "\n",
    "我是學生\n",
    "我的名字是 kevin\n",
    "我的總分是 270\n",
    "我的平均是 90.0\n",
    "\n",
    "✅ 超新手用一句話理解\n",
    "\n",
    "這個程式就是在示範：\n",
    "\n",
    "Person = 一般人，只會打招呼。\n",
    "\n",
    "student = 學生，不只會打招呼，還能存放分數、算總分與平均。\n",
    "\n",
    "print(s1) 甚至會直接幫你顯示完整的學生資訊。"
   ]
  }
 ],
 "metadata": {
  "kernelspec": {
   "display_name": "python-web-1",
   "language": "python",
   "name": "python3"
  },
  "language_info": {
   "codemirror_mode": {
    "name": "ipython",
    "version": 3
   },
   "file_extension": ".py",
   "mimetype": "text/x-python",
   "name": "python",
   "nbconvert_exporter": "python",
   "pygments_lexer": "ipython3",
   "version": "3.13.5"
  }
 },
 "nbformat": 4,
 "nbformat_minor": 5
}
