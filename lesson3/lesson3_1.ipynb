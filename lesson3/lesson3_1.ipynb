{
 "cells": [
  {
   "cell_type": "code",
   "execution_count": 51,
   "id": "fe8679d3",
   "metadata": {},
   "outputs": [
    {
     "name": "stdout",
     "output_type": "stream",
     "text": [
      "Hello! Python!\n"
     ]
    }
   ],
   "source": [
    "print(\"Hello! Python!\")"
   ]
  },
  {
   "cell_type": "code",
   "execution_count": 52,
   "id": "34dc5926",
   "metadata": {},
   "outputs": [],
   "source": [
    "class Person:\n",
    "    def __init__(self,name):#自訂的初始化\n",
    "        self.name = name  #attribute\n",
    "    \n",
    "    def greeting(self):#自訂的實體方法\n",
    "        print(f\"您好{self.name}\")\n",
    "    \n",
    "\n"
   ]
  },
  {
   "cell_type": "code",
   "execution_count": 53,
   "id": "ad714f9b",
   "metadata": {},
   "outputs": [
    {
     "name": "stdout",
     "output_type": "stream",
     "text": [
      "您好robert\n",
      "您好jenny\n"
     ]
    }
   ],
   "source": [
    "p1: Person = Person(\"robert\")\n",
    "p1.greeting()   #  執行方法 → 您好robert\n",
    "\n",
    "p2: Person = Person(name=\"jenny\")\n",
    "p2.greeting()   #  執行方法 → 您好jenny"
   ]
  },
  {
   "cell_type": "code",
   "execution_count": 54,
   "id": "e27db2c5",
   "metadata": {},
   "outputs": [],
   "source": [
    "# 定義父類別 Person\n",
    "class Person:\n",
    "    def __init__(self, name):  # 初始化方法，建立物件時會自動執行\n",
    "        self.name = name       # 將名字存到屬性 name\n",
    "    \n",
    "    def greeting(self):        # 一般方法，印出問候語\n",
    "        print(f\"您好 {self.name}\")\n",
    "\n",
    "\n",
    "# 定義子類別 student，繼承自 Person\n",
    "class student(Person):\n",
    "    def __init__(self, name, chinese, english, math):\n",
    "        # 呼叫父類別(Person)的初始化，先把 name 存起來\n",
    "        super().__init__(name)\n",
    "        # 再加上三個屬性：國文、英文、數學 (前面加 __ 代表私有變數)\n",
    "        self.__chinese = chinese\n",
    "        self.__english = english\n",
    "        self.__math = math\n",
    "    \n",
    "    # getter (用 @property 包裝，讓呼叫端像讀屬性一樣取值)\n",
    "    @property\n",
    "    def chinese(self):\n",
    "        return self.__chinese\n",
    "    \n",
    "    @property\n",
    "    def english(self):\n",
    "        return self.__english\n",
    "\n",
    "    @property\n",
    "    def math(self):\n",
    "        return self.__math\n",
    "\n",
    "    # 覆寫父類別的 greeting()\n",
    "    def greeting(self):\n",
    "        super().greeting()   # 先呼叫父類別的 greeting()\n",
    "        print(\"您好:我是學生\")  # 再加上學生自己的問候\n",
    "    \n",
    "    # 計算總分的方法\n",
    "    def total(self):\n",
    "        return self.chinese + self.english + self.math\n",
    "    \n",
    "    # 計算平均的方法\n",
    "    def average(self):\n",
    "        return self.total() / 3.0"
   ]
  },
  {
   "cell_type": "code",
   "execution_count": 55,
   "id": "97ea3f9d",
   "metadata": {},
   "outputs": [
    {
     "name": "stdout",
     "output_type": "stream",
     "text": [
      "kevin\n",
      "國文分數:100\n",
      "英文分數:78\n",
      "數學分數:92\n",
      "總分:270\n",
      "平均:90.0\n",
      "您好 kevin\n",
      "您好:我是學生\n"
     ]
    }
   ],
   "source": [
    "# 建立一個 student 物件，名字 kevin，三科分數：國文100、英文78、數學92\n",
    "s1 = student(\"kevin\", english=78, math=92, chinese=100)\n",
    "# 印出名字 (來自父類別)\n",
    "print(s1.name)     \n",
    "# 取用國英數三科分數 (因為有用 @property，所以看起來像讀屬性)\n",
    "print(f\"國文分數:{s1.chinese}\")\n",
    "print(f\"英文分數:{s1.english}\")\n",
    "print(f\"數學分數:{s1.math}\")\n",
    "\n",
    "# 呼叫方法算總分和平均\n",
    "print(f\"總分:{s1.total()}\")\n",
    "print(f\"平均:{s1.average()}\")\n",
    "\n",
    "# 呼叫 greeting()，會先執行父類別的 → \"您好 kevin\"\n",
    "# 再執行子類別的 → \"您好:我是學生\"\n",
    "s1.greeting()  "
   ]
  },
  {
   "cell_type": "markdown",
   "id": "7395a8cf",
   "metadata": {},
   "source": [
    "繼承 (Inheritance)\n",
    "    class student(Person): → 表示 student 類別 繼承 Person 類別。\n",
    "    子類別自動擁有父類別的屬性和方法。\n",
    "\n",
    "方法覆寫 (Method Override)\n",
    "    在子類別 student 中重新定義 greeting()。\n",
    "    Python 會優先執行子類別的版本。\n",
    "    \n",
    "super() 的用途\n",
    "    super().greeting() 代表先呼叫父類別 (Person) 的 greeting() 方法。\n",
    "    這樣就能「保留父類別的功能」，再加上子類別的額外功能。"
   ]
  }
 ],
 "metadata": {
  "kernelspec": {
   "display_name": "python-web-1",
   "language": "python",
   "name": "python3"
  },
  "language_info": {
   "codemirror_mode": {
    "name": "ipython",
    "version": 3
   },
   "file_extension": ".py",
   "mimetype": "text/x-python",
   "name": "python",
   "nbconvert_exporter": "python",
   "pygments_lexer": "ipython3",
   "version": "3.13.5"
  }
 },
 "nbformat": 4,
 "nbformat_minor": 5
}
