{
 "cells": [
  {
   "cell_type": "code",
   "execution_count": null,
   "id": "3942295f",
   "metadata": {},
   "outputs": [
    {
     "name": "stdout",
     "output_type": "stream",
     "text": [
      "出現錯誤,錯誤是:名字錯誤\n"
     ]
    }
   ],
   "source": [
    "# 使用 try-except-else 來處理可能發生的錯誤\n",
    "try:\n",
    "    # 主動產生一個 NameError，並附上錯誤訊息 \"名字錯誤\"\n",
    "    raise NameError(\"名字錯誤\")\n",
    "    \n",
    "    # 這行程式碼不會執行，因為前一行已經 raise 了錯誤\n",
    "    print(\"Hello\")\n",
    "    \n",
    "except Exception as e:  # 捕捉所有類型的錯誤(Exception是所有錯誤的父類)\n",
    "    # e 會存放錯誤訊息，這裡把錯誤訊息印出來\n",
    "    print(f\"出現錯誤,錯誤是:{e}\")\n",
    "\n",
    "else:\n",
    "    # 如果 try 區塊沒有發生錯誤，才會執行這裡\n",
    "    print(\"沒有錯誤\")\n"
   ]
  },
  {
   "cell_type": "code",
   "execution_count": 5,
   "id": "e209cbc0",
   "metadata": {},
   "outputs": [
    {
     "name": "stdout",
     "output_type": "stream",
     "text": [
      "Hello\n",
      "沒有錯誤\n"
     ]
    }
   ],
   "source": [
    "try:\n",
    "    # raise NameError(\"名字錯誤\")\n",
    "    print(\"Hello\")\n",
    "except NameError:\n",
    "    print(\"名字錯誤\")\n",
    "except Exception as e:\n",
    "    print(f\"出現錯誤,錯誤是:{e}\")\n",
    "else:\n",
    "    print(\"沒有錯誤\")"
   ]
  }
 ],
 "metadata": {
  "kernelspec": {
   "display_name": "python-web-1",
   "language": "python",
   "name": "python3"
  },
  "language_info": {
   "codemirror_mode": {
    "name": "ipython",
    "version": 3
   },
   "file_extension": ".py",
   "mimetype": "text/x-python",
   "name": "python",
   "nbconvert_exporter": "python",
   "pygments_lexer": "ipython3",
   "version": "3.13.5"
  }
 },
 "nbformat": 4,
 "nbformat_minor": 5
}
