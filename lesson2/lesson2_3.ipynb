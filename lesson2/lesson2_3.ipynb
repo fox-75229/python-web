{
 "cells": [
  {
   "cell_type": "code",
   "execution_count": null,
   "id": "c2f1e0f6",
   "metadata": {},
   "outputs": [],
   "source": [
    "# *args可變長度參數\n",
    "# todo:計算總合的function\n",
    "# 參數:*args\n",
    "# return:總和\n",
    "\n",
    "# 定義一個函數 sum_all，可以接受任意數量的參數\n",
    "# *args 代表「可變長度參數」，會把傳入的值全部放入一個 tuple 裡面\n",
    "def sum_all(*args):\n",
    "    print(args)  # 印出傳入的所有參數，args 是 tuple 型態\n",
    "    \n",
    "    total = 0  # 用來累加所有參數的總和\n",
    "    for num in args:  # 迭代 tuple 中的每一個數字\n",
    "        total += num  # 累加到 total\n",
    "    \n",
    "    return total  # 回傳總和\n",
    "\n",
    "\n"
   ]
  },
  {
   "cell_type": "code",
   "execution_count": null,
   "id": "827ebdbc",
   "metadata": {},
   "outputs": [
    {
     "name": "stdout",
     "output_type": "stream",
     "text": [
      "()\n",
      "(1, 2, 3, 4, 5)\n",
      "(10, 20, 30)\n"
     ]
    },
    {
     "data": {
      "text/plain": [
       "60"
      ]
     },
     "execution_count": 2,
     "metadata": {},
     "output_type": "execute_result"
    }
   ],
   "source": [
    "# 呼叫函數，不傳參數 → args 是空的 tuple ()\n",
    "sum_all()  # 輸出：()，回傳 0\n",
    "\n",
    "# 呼叫函數，傳入多個數字 → args 會變成 (1, 2, 3, 4, 5)\n",
    "sum_all(1, 2, 3, 4, 5)  # 輸出：(1, 2, 3, 4, 5)，回傳 15\n",
    "\n",
    "# 呼叫函數，傳入三個數字 → args 會變成 (10, 20, 30)\n",
    "sum_all(10, 20, 30)  # 輸出：(10, 20, 30)，回傳 60"
   ]
  },
  {
   "cell_type": "code",
   "execution_count": null,
   "id": "3435b1fd",
   "metadata": {},
   "outputs": [],
   "source": [
    "# **kwargs可變長度關鍵字參數\n",
    "# todo:自訂function\n",
    "# 名稱:create_student_info\n",
    "# 參數:**kwargs\n",
    "# return(dict):student_info\n",
    "\n",
    "def create_student_info(**kwargs):\n",
    "    student_info = {}            # 建立一個空字典，用來存學生資料\n",
    "    print(kwargs)                # kwargs 會是一個 dict，包含所有傳入的關鍵字參數\n",
    "    for key, value in kwargs.items():  # 迭代每個 key-value 對\n",
    "        student_info[key] = value     # 將 key-value 存入 student_info\n",
    "    return student_info           # 回傳整理好的字典\n"
   ]
  },
  {
   "cell_type": "code",
   "execution_count": null,
   "id": "c157539c",
   "metadata": {},
   "outputs": [
    {
     "name": "stdout",
     "output_type": "stream",
     "text": [
      "{'name': 'robert', 'age': 20, 'major': 'CS'}\n"
     ]
    },
    {
     "data": {
      "text/plain": [
       "{'name': 'robert', 'age': 20, 'major': 'CS'}"
      ]
     },
     "execution_count": 4,
     "metadata": {},
     "output_type": "execute_result"
    }
   ],
   "source": [
    "create_student_info(name=\"robert\", age=20, major=\"CS\")\n",
    "# kwargs = {'name': 'robert', 'age': 20, 'major': 'CS'}\n",
    "# 回傳 student_info = {'name': 'robert', 'age': 20, 'major': 'CS'}\n",
    "\n",
    "\n"
   ]
  },
  {
   "cell_type": "code",
   "execution_count": null,
   "id": "c174a37e",
   "metadata": {},
   "outputs": [
    {
     "name": "stdout",
     "output_type": "stream",
     "text": [
      "{'name': 'alice', 'age': 22, 'major': 'Math', 'gpa': 3.8}\n"
     ]
    },
    {
     "data": {
      "text/plain": [
       "{'name': 'alice', 'age': 22, 'major': 'Math', 'gpa': 3.8}"
      ]
     },
     "execution_count": 5,
     "metadata": {},
     "output_type": "execute_result"
    }
   ],
   "source": [
    "create_student_info(name=\"alice\", age=22, major=\"Math\", gpa=3.8)\n",
    "# kwargs = {'name': 'alice', 'age': 22, 'major': 'Math', 'gpa': 3.8}\n",
    "# 回傳 student_info = {'name': 'alice', 'age': 22, 'major': 'Math', 'gpa': 3.8}"
   ]
  },
  {
   "cell_type": "code",
   "execution_count": 6,
   "id": "f66935ab",
   "metadata": {},
   "outputs": [
    {
     "name": "stdout",
     "output_type": "stream",
     "text": [
      "密碼強度檢查\n",
      "\n",
      "\n",
      "===============\n"
     ]
    }
   ],
   "source": [
    "# 密碼強度檢查\n",
    "print(\"密碼強度檢查\")\n",
    "print()\n",
    "print()\n",
    "print(\"===============\")"
   ]
  },
  {
   "cell_type": "code",
   "execution_count": 9,
   "id": "0c490a80",
   "metadata": {},
   "outputs": [
    {
     "name": "stdout",
     "output_type": "stream",
     "text": [
      "a-b-c END\n"
     ]
    }
   ],
   "source": [
    "print(\"a\", \"b\", \"c\", sep=\"-\", end=\" END\\n\")  "
   ]
  },
  {
   "cell_type": "code",
   "execution_count": 8,
   "id": "e6ea2ebc",
   "metadata": {},
   "outputs": [
    {
     "name": "stdout",
     "output_type": "stream",
     "text": [
      "a-b-c END\n"
     ]
    }
   ],
   "source": [
    "print(\"a\", \"b\", \"c\", end=\" END\\n\", sep=\"-\") "
   ]
  }
 ],
 "metadata": {
  "kernelspec": {
   "display_name": "python-web-1",
   "language": "python",
   "name": "python3"
  },
  "language_info": {
   "codemirror_mode": {
    "name": "ipython",
    "version": 3
   },
   "file_extension": ".py",
   "mimetype": "text/x-python",
   "name": "python",
   "nbconvert_exporter": "python",
   "pygments_lexer": "ipython3",
   "version": "3.13.5"
  }
 },
 "nbformat": 4,
 "nbformat_minor": 5
}
