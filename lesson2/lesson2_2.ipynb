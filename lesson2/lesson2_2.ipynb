{
 "cells": [
  {
   "cell_type": "code",
   "execution_count": 20,
   "id": "133c6f85",
   "metadata": {},
   "outputs": [
    {
     "name": "stdout",
     "output_type": "stream",
     "text": [
      "Hello! Python!\n"
     ]
    }
   ],
   "source": [
    "print(\"Hello! Python!\")"
   ]
  },
  {
   "cell_type": "code",
   "execution_count": 21,
   "id": "5f80d220",
   "metadata": {},
   "outputs": [
    {
     "name": "stdout",
     "output_type": "stream",
     "text": [
      "        *        \n",
      "       ***       \n",
      "      *****      \n",
      "     *********   \n",
      "    ***********  \n",
      "   ************* \n",
      "        |||      \n",
      "       =====     \n"
     ]
    }
   ],
   "source": [
    "# 定義一個沒有參數,沒有傳出值的function\n",
    "# todo:建立一個可以使用print()劃出聖誕樹的function\n",
    "# 必需要有說明docstring\n",
    "def draw_christmas_tree():\n",
    "    \"\"\"\n",
    "    這個函數會印出一個簡單的 ASCII 藝術聖誕樹。\n",
    "    \"\"\"\n",
    "    print(\"        *        \")\n",
    "    print(\"       ***       \")\n",
    "    print(\"      *****      \")\n",
    "    print(\"     *********   \")\n",
    "    print(\"    ***********  \")\n",
    "    print(\"   ************* \")\n",
    "    print(\"        |||      \")\n",
    "    print(\"       =====     \")\n",
    "\n",
    "draw_christmas_tree()"
   ]
  },
  {
   "cell_type": "code",
   "execution_count": 22,
   "id": "904b5dca",
   "metadata": {},
   "outputs": [],
   "source": [
    "# 自訂的function,有參數,有傳出值\n",
    "# todo:建立一個簡單問候函數\n",
    "# 名稱:greet_person(snake_case)\n",
    "# 參數:name,greeting,greeting有預設值\n",
    "def greet_person(name:str, greeting:str=\"哈囉\"):\n",
    "    \"\"\"\n",
    "    這個函數會根據提供的名字和問候語來打印問候信息。\n",
    "    \n",
    "    參數:\n",
    "    name (str): 要問候的人的名字。\n",
    "    greeting (str): 問候語，默認為 \"Hello\"。\n",
    "    \n",
    "    傳出值:\n",
    "    str: 格式化的問候信息。\n",
    "    \"\"\"\n",
    "    return f\"{greeting}, {name}!\""
   ]
  },
  {
   "cell_type": "code",
   "execution_count": 26,
   "id": "166abee1",
   "metadata": {},
   "outputs": [
    {
     "name": "stdout",
     "output_type": "stream",
     "text": [
      "Help on function greet_person in module __main__:\n",
      "\n",
      "greet_person(name: str, greeting: str = '哈囉')\n",
      "    這個函數會根據提供的名字和問候語來打印問候信息。\n",
      "\n",
      "    參數:\n",
      "    name (str): 要問候的人的名字。\n",
      "    greeting (str): 問候語，默認為 \"Hello\"。\n",
      "\n",
      "    傳出值:\n",
      "    str: 格式化的問候信息。\n",
      "\n"
     ]
    }
   ],
   "source": [
    "help(greet_person)"
   ]
  },
  {
   "cell_type": "code",
   "execution_count": 24,
   "id": "69b8147e",
   "metadata": {},
   "outputs": [
    {
     "name": "stdout",
     "output_type": "stream",
     "text": [
      "哈囉, robert!\n"
     ]
    }
   ],
   "source": [
    "# 使用最少的引數值呼叫\n",
    "print(greet_person(\"robert\"))"
   ]
  },
  {
   "cell_type": "code",
   "execution_count": 25,
   "id": "d20b20c3",
   "metadata": {},
   "outputs": [
    {
     "name": "stdout",
     "output_type": "stream",
     "text": [
      "您好, robert!\n"
     ]
    }
   ],
   "source": [
    "# greeting,不要使用預設值\n",
    "print(greet_person(\"robert\",greeting=\"您好\"))"
   ]
  },
  {
   "cell_type": "code",
   "execution_count": 36,
   "id": "d91f2002",
   "metadata": {},
   "outputs": [],
   "source": [
    "# todo:建立一個BMI計算機\n",
    "# 名稱:calculate_bmi\n",
    "# 參數:weight,height\n",
    "# 傳出值(tuple):(bmi,status)\n",
    "\n",
    "def calculate_bmi(weight: float, height: float) -> tuple:\n",
    "    \"\"\"\n",
    "    計算 BMI (Body Mass Index, 身體質量指數)。\n",
    "\n",
    "    公式:\n",
    "        BMI = 體重(公斤) / (身高(公尺) ** 2)\n",
    "\n",
    "    參數:\n",
    "        weight (float): 體重，單位公斤。\n",
    "        height (float): 身高，單位公尺。\n",
    "\n",
    "    傳回值:\n",
    "        tuple: (bmi, status)\n",
    "            - bmi (float): 計算出來的 BMI 值 (四捨五入到小數點一位)。\n",
    "            - status (str): 健康狀態描述。\n",
    "              <18.5 為「過輕」\n",
    "              18.5–24 為「正常」\n",
    "              24–27 為「過重」\n",
    "              27–30 為「輕度肥胖」\n",
    "              30–35 為「中度肥胖」\n",
    "              >=35 為「重度肥胖」\n",
    "    \"\"\"\n",
    "    bmi = (weight / (height ** 2))\n",
    "\n",
    "    # 判斷健康狀態\n",
    "    if bmi < 18.5:\n",
    "        status = \"體重過輕\"\n",
    "    elif 18.5 <= bmi < 24:\n",
    "        status = \"體重正常\"\n",
    "    elif 24 <= bmi < 27:\n",
    "        status = \"體重過重\"\n",
    "    elif 27 <= bmi < 30:\n",
    "        status = \"輕度肥胖\"\n",
    "    elif 30 <= bmi < 35:\n",
    "        status = \"中度肥胖\"\n",
    "    else:\n",
    "        status = \"重度肥胖\"\n",
    "\n",
    "    return (bmi, status)\n",
    "\n"
   ]
  },
  {
   "cell_type": "code",
   "execution_count": 38,
   "id": "3b9af015",
   "metadata": {},
   "outputs": [
    {
     "name": "stdout",
     "output_type": "stream",
     "text": [
      "您的bmi是22.86,您的狀態是體重正常\n"
     ]
    }
   ],
   "source": [
    "#tuple的拆解法\n",
    "bmi, status = calculate_bmi(70, 1.75)\n",
    "print(f\"您的bmi是{bmi:.2f},您的狀態是{status}\")"
   ]
  },
  {
   "cell_type": "code",
   "execution_count": null,
   "id": "5b5c10b9",
   "metadata": {},
   "outputs": [],
   "source": [
    "#todo:自訂一個密碼驗證器\n",
    "# 參數(str): password\n",
    "# 功能: \n",
    "#   -最少需要8個字元 \n",
    "#   -如果有數字、有大寫字元、有小寫字元、傳出密碼強度:強** \n",
    "#   -如果不是強，傳出**密碼強度:中等or弱\n",
    "\n",
    "def validate_password(password: str) -> str:\n",
    "    \"\"\"\n",
    "    自訂密碼驗證器，根據條件判斷密碼強度。\n",
    "    \n",
    "    參數:\n",
    "        password (str): 使用者輸入的密碼字串。\n",
    "    \n",
    "    功能:\n",
    "        - 至少 8 個字元。\n",
    "        - 如果包含數字、大寫字母、小寫字母 → 密碼強度 = 強\n",
    "        - 否則，判斷為 中等 或 弱\n",
    "    \n",
    "    傳出值:\n",
    "        str: 密碼強度 (\"強\", \"中等\", \"弱\")\n",
    "    \"\"\"\n",
    "\n",
    "    # Step 1: 檢查密碼長度是否小於 8\n",
    "    # 如果太短，直接回傳「弱」，不繼續往下檢查\n",
    "    if len(password) < 8:\n",
    "        return \"密碼強度: 弱 (少於 8 個字元)\"\n",
    "\n",
    "    # Step 2: 檢查密碼內容\n",
    "    # any()：只要字串中有符合條件的字元，就會回傳 True\n",
    "    has_upper = any(ch.isupper() for ch in password)   # 是否包含大寫字母\n",
    "    has_lower = any(ch.islower() for ch in password)   # 是否包含小寫字母\n",
    "    has_digit = any(ch.isdigit() for ch in password)   # 是否包含數字\n",
    "\n",
    "    # Step 3: 判斷密碼強度\n",
    "    # 如果同時包含大寫、小寫、數字 → 強\n",
    "    if has_upper and has_lower and has_digit:\n",
    "        return \"密碼強度: 強\"\n",
    "    # 其他情況 → 中等\n",
    "    else:\n",
    "        return \"密碼強度: 中等\"\n"
   ]
  },
  {
   "cell_type": "code",
   "execution_count": 65,
   "id": "efbe2f07",
   "metadata": {},
   "outputs": [
    {
     "data": {
      "text/plain": [
       "8"
      ]
     },
     "execution_count": 65,
     "metadata": {},
     "output_type": "execute_result"
    }
   ],
   "source": [
    "password = \"abcd1234\"   # 把字串 \"abcd1234\" 存到變數 password 裡\n",
    "len(password)           # len() 是 Python 內建函式，用來計算字串(或其他容器)的長度"
   ]
  },
  {
   "cell_type": "code",
   "execution_count": null,
   "id": "0f4a7f50",
   "metadata": {},
   "outputs": [
    {
     "data": {
      "text/plain": [
       "(False, True, True)"
      ]
     },
     "execution_count": 61,
     "metadata": {},
     "output_type": "execute_result"
    }
   ],
   "source": [
    "# 檢查密碼中是否包含大寫字母\n",
    "has_upper = any(c.isupper() for c in password)  # any() 只要有任意一個字元是大寫就會回傳 True\n",
    "\n",
    "# 檢查密碼中是否包含小寫字母\n",
    "has_lower = any(c.islower() for c in password)  # any() 只要有任意一個字元是小寫就會回傳 True\n",
    "\n",
    "# 檢查密碼中是否包含數字\n",
    "has_digit = any(c.isdigit() for c in password)  # any() 只要有任意一個字元是數字就會回傳 True\n",
    "\n",
    "# 將三個布林值打包成 tuple，方便一次查看密碼中是否包含大寫、小寫、數字\n",
    "(has_upper, has_lower, has_digit)\n"
   ]
  },
  {
   "cell_type": "code",
   "execution_count": 62,
   "id": "dba79e01",
   "metadata": {},
   "outputs": [
    {
     "name": "stdout",
     "output_type": "stream",
     "text": [
      "密碼強度: 中等or弱\n"
     ]
    }
   ],
   "source": [
    "if has_upper and has_lower and has_digit:\n",
    "    print(\"密碼強度: 強\")\n",
    "# 至少符合其中兩個條件 → 中等\n",
    "else:\n",
    "    print(\"密碼強度: 中等or弱\")"
   ]
  },
  {
   "cell_type": "code",
   "execution_count": 63,
   "id": "bdc65ca2",
   "metadata": {},
   "outputs": [
    {
     "data": {
      "text/plain": [
       "'密碼強度: 強'"
      ]
     },
     "execution_count": 63,
     "metadata": {},
     "output_type": "execute_result"
    }
   ],
   "source": [
    "validate_password(\"abc\")  # 密碼強度: 弱 (長度不足)\n",
    "validate_password(\"abcdefg8\")  # 密碼強度: 中等或弱\n",
    "validate_password(\"Abcdefg8\")  # 密碼強度: 強"
   ]
  }
 ],
 "metadata": {
  "language_info": {
   "name": "python"
  }
 },
 "nbformat": 4,
 "nbformat_minor": 5
}
