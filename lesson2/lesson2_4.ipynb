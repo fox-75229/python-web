{
 "cells": [
  {
   "cell_type": "code",
   "execution_count": 10,
   "id": "e3776619",
   "metadata": {},
   "outputs": [],
   "source": [
    "#定義類別\n",
    "class car():\n",
    "    pass\n",
    "\n",
    "\n"
   ]
  },
  {
   "cell_type": "code",
   "execution_count": 11,
   "id": "e531dbda",
   "metadata": {},
   "outputs": [
    {
     "data": {
      "text/plain": [
       "__main__.car"
      ]
     },
     "execution_count": 11,
     "metadata": {},
     "output_type": "execute_result"
    }
   ],
   "source": [
    "car1 = car()\n",
    "type(car1)"
   ]
  },
  {
   "cell_type": "code",
   "execution_count": 12,
   "id": "3ad2512e",
   "metadata": {},
   "outputs": [],
   "source": [
    "class Dog():\n",
    "    def __init__(self, name, age):\n",
    "        self.name = name\n",
    "        self.age = age\n",
    "        \n",
    "    def bark(self): #實體方法\n",
    "        return f\"{self.name} 汪汪叫!\"\n"
   ]
  },
  {
   "cell_type": "code",
   "execution_count": 13,
   "id": "77f697fb",
   "metadata": {},
   "outputs": [
    {
     "name": "stdout",
     "output_type": "stream",
     "text": [
      "Buddy\n",
      "3\n",
      "Buddy 汪汪叫!\n"
     ]
    }
   ],
   "source": [
    "dog1 = Dog(\"Buddy\", 3)\n",
    "print(dog1.name)  # 輸出: Buddy\n",
    "print(dog1.age)   # 輸出: 3\n",
    "print(dog1.bark()) #輸出:Buddy 汪汪叫!"
   ]
  },
  {
   "cell_type": "code",
   "execution_count": 14,
   "id": "2474bb6a",
   "metadata": {},
   "outputs": [
    {
     "name": "stdout",
     "output_type": "stream",
     "text": [
      "Max\n",
      "5\n"
     ]
    },
    {
     "data": {
      "text/plain": [
       "'Buddy 汪汪叫!'"
      ]
     },
     "execution_count": 14,
     "metadata": {},
     "output_type": "execute_result"
    }
   ],
   "source": [
    "\n",
    "dog2 = Dog(\"Max\", 5)\n",
    "print(dog2.name)  # 輸出: Max\n",
    "print(dog2.age)   # 輸出: 5\n",
    "dog1.bark() #輸出: max 汪汪叫!      "
   ]
  },
  {
   "cell_type": "code",
   "execution_count": 15,
   "id": "33a0e15f",
   "metadata": {},
   "outputs": [
    {
     "name": "stdout",
     "output_type": "stream",
     "text": [
      "Bella\n",
      "2\n"
     ]
    },
    {
     "data": {
      "text/plain": [
       "'Bella 汪汪叫!'"
      ]
     },
     "execution_count": 15,
     "metadata": {},
     "output_type": "execute_result"
    }
   ],
   "source": [
    "\n",
    "dog3 = Dog(\"Bella\", 2)\n",
    "print(dog3.name)  # 輸出: Bella\n",
    "print(dog3.age)   # 輸出: 2\n",
    "dog3.bark() #輸出Bella 汪汪叫!"
   ]
  },
  {
   "cell_type": "code",
   "execution_count": 16,
   "id": "3ff0a66c",
   "metadata": {},
   "outputs": [
    {
     "data": {
      "text/plain": [
       "'ABC'"
      ]
     },
     "execution_count": 16,
     "metadata": {},
     "output_type": "execute_result"
    }
   ],
   "source": [
    "\n",
    "\"Abc\".lower() #字串的實體方法\n",
    "\"Abc\".upper() #字串的實體方法"
   ]
  }
 ],
 "metadata": {
  "kernelspec": {
   "display_name": "python-web-1",
   "language": "python",
   "name": "python3"
  },
  "language_info": {
   "codemirror_mode": {
    "name": "ipython",
    "version": 3
   },
   "file_extension": ".py",
   "mimetype": "text/x-python",
   "name": "python",
   "nbconvert_exporter": "python",
   "pygments_lexer": "ipython3",
   "version": "3.13.5"
  }
 },
 "nbformat": 4,
 "nbformat_minor": 5
}
